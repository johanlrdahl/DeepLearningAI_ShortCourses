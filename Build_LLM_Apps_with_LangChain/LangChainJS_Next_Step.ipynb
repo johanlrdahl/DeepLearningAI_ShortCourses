{
 "cells": [
  {
   "cell_type": "markdown",
   "metadata": {
    "id": "ehJOIvMZlraz"
   },
   "source": [
    "<h1 style=\"background-color:rgb(255,250,250); color:brown; padding:15px; border-top-style:solid; border-width:1px;\"> 👨‍💻 Continue Learning: Next Steps</h1>\n",
    "<img  style=\"display: block; \" src=\"https://i.ibb.co/JtxpjzH/next-step-7.png\" alt=\"next-step\" border=\"0\" width=\"400px\"></img>\n",
    "\n",
    "Congratulations on completing the **Building LLM Apps with LangChain.js** course!\n",
    "\n",
    "To keep the momentum going, here are three recommended courses for your continued learning journey. Each course is designed to further expand your skills and knowledge, opening new doors of opportunity. Dive in and explore these exciting courses!"
   ]
  },
  {
   "cell_type": "markdown",
   "metadata": {
    "id": "k3cebfBdn31n"
   },
   "source": [
    "\n",
    "<h1 style=\"background-color:rgb(255,250,250); color:brown; padding:15px; border-top-style:solid; border-width:1px;\"> 1️⃣ &nbsp LangChain: Chat with Your Data</h1>\n",
    "\n",
    "<a href=\"https://rebrand.ly/sxbny7a\"><img width=\"400px\" src=\"images/langchain-chat-with-data.png\" alt=\"langchain-chat-with-data\" border=\"0\"></a>\n",
    "\n",
    "Create a chatbot to interface with your private data and documents using LangChain.\n",
    "\n",
    "- Learn from LangChain creator, Harrison Chase\n",
    "- Utilize 80+ loaders for diverse data sources in LangChain\n",
    "- Create a chatbot to interact with your own documents and data\n",
    "- Language: **Python**\n",
    "\n",
    "<span style=\"padding: 18px 12px; background-color:rgb(255, 245,245); border-radius:8px; border-color:rgb(255,220,220); border-width:2px; border-style:solid; margin-bottom:10px; margin-bottom:10px\"><b>📚 LangChain: Chat with Your Data &nbsp; ➡️ </b> &nbsp;&nbsp; <a href=\"https://rebrand.ly/sxbny7a\" style=\"background-color: #F65B66; border-radius:7px; color: white; padding: 8px 12px; text-align: center; text-decoration: none; display: inline-block;\">\n",
    "        <b>Enroll Now</b>\n",
    "    </a></span>\n",
    "<p></p>\n",
    "<br>"
   ]
  },
  {
   "cell_type": "markdown",
   "metadata": {
    "id": "30WnR-5fuV0p",
    "jp-MarkdownHeadingCollapsed": true
   },
   "source": [
    "<h1 style=\"background-color:rgb(255,250,250); color:brown; padding:15px; border-top-style:solid; border-width:1.5px;\"> 2️⃣ &nbsp LangChain for LLM Application Development</h1>\n",
    "\n",
    "<a href=\"https://rebrand.ly/aebf4nt\"><img width=\"400\" src=\"images/langchain-llm-app-dev.png\" alt=\"langchain-llm-app-dev\" border=\"0\"></a>\n",
    "\n",
    "The framework to take LLMs out of the box. Learn to use LangChain to call LLMs into new environments, and use memories, chains, and agents to take on new and complex tasks.\n",
    "\n",
    "- Learn LangChain directly from the creator of the framework, Harrison Chase\n",
    "- Apply LLMs to proprietary data to build personal assistants and specialized chatbots\n",
    "- Use agents, chained calls, and memories to expand your use of LLMs\n",
    "- Language: **Python**\n",
    "\n",
    "<span style=\"padding: 18px 12px; background-color:rgb(255, 245,245); border-radius:8px; border-color:rgb(255,220,220); border-width:2px; border-style:solid; margin-bottom:10px\"><b>📚 \n",
    "LangChain for LLM Application Development &nbsp; ➡️ </b> &nbsp;&nbsp; <a href=\"https://rebrand.ly/aebf4nt\" style=\"background-color: #F65B66; border-radius:7px; color: white; padding: 8px 12px; text-align: center; text-decoration: none; display: inline-block;\">\n",
    "        <b>Enroll Now</b>\n",
    "    </a></span>\n",
    "<p></p>\n",
    "<br>\n"
   ]
  },
  {
   "cell_type": "markdown",
   "metadata": {
    "id": "ogcaNdg6uWte"
   },
   "source": [
    "<h1 style=\"background-color:rgb(255,250,250); color:brown; padding:15px;  border-top-style:solid; border-width:1px;\"> 3️⃣ &nbsp Functions, Tools and Agents with LangChain</h1>\n",
    "\n",
    "<a href=\"https://rebrand.ly/qlmlqmc\"><img width=\"400px\" src=\"images/langchain-functions.png\" alt=\"langchain-functions\" border=\"0\"></a>\n",
    "\n",
    "Learn and apply the new capabilities of LLMs as a developer tool.\n",
    "\n",
    "- Learn about the most recent advancements in LLM APIs.\n",
    "- Use LangChain Expression Language (LCEL), a new syntax to compose and customize chains and agents faster.\n",
    "- Apply these new capabilities by building up a conversational agent.\n",
    "- Language: **Python**\n",
    "\n",
    "<span style=\"padding: 18px 12px; background-color:rgb(255, 245,245); border-radius:8px; border-color:rgb(255,220,220); border-width:2px; border-style:solid; margin-bottom:10px\"><b>📚 Functions, Tools and Agents with LangChain &nbsp; ➡️ </b> &nbsp;&nbsp; <a href=\"https://rebrand.ly/qlmlqmc\" style=\"background-color: #F65B66; border-radius:7px; color: white; padding: 8px 12px; text-align: center; text-decoration: none; display: inline-block;\">\n",
    "        <b>Enroll Now</b>\n",
    "    </a></span>\n",
    "<p></p>\n",
    "<br>"
   ]
  },
  {
   "cell_type": "code",
   "execution_count": null,
   "metadata": {
    "id": "QB_bmbnNukeJ"
   },
   "outputs": [],
   "source": []
  }
 ],
 "metadata": {
  "colab": {
   "provenance": []
  },
  "kernelspec": {
   "display_name": "Python 3 (ipykernel)",
   "language": "python",
   "name": "python3"
  },
  "language_info": {
   "codemirror_mode": {
    "name": "ipython",
    "version": 3
   },
   "file_extension": ".py",
   "mimetype": "text/x-python",
   "name": "python",
   "nbconvert_exporter": "python",
   "pygments_lexer": "ipython3",
   "version": "3.9.6"
  }
 },
 "nbformat": 4,
 "nbformat_minor": 4
}
